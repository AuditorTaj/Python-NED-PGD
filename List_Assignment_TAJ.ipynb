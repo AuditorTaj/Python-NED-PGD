{
 "cells": [
  {
   "cell_type": "markdown",
   "metadata": {},
   "source": [
    "# Question 1: Basic List Operations\n",
    "\n",
    "a) Create a list named `fruits` containing the following items: &quot;apple&quot;, &quot;banana&quot;, &quot;orange&quot;, &quot;grape&quot;,\n",
    "&quot;kiwi&quot;.\n",
    "\n",
    "b) Add &quot;pear&quot; to the end of the list.\n",
    "\n",
    "c) Insert &quot;mango&quot; at the second position in the list.\n",
    "\n",
    "d) Remove &quot;orange&quot; from the list."
   ]
  },
  {
   "cell_type": "code",
   "execution_count": 11,
   "metadata": {},
   "outputs": [
    {
     "name": "stdout",
     "output_type": "stream",
     "text": [
      "['apple', 'banana', 'orange', 'grape', 'kiwi', 'pear']\n",
      "['apple', 'mango', 'banana', 'orange', 'grape', 'kiwi', 'pear']\n",
      "['apple', 'mango', 'banana', 'grape', 'kiwi', 'pear']\n"
     ]
    }
   ],
   "source": [
    "fruits = [ \"apple\", \"banana\", \"orange\", \"grape\", \"kiwi\"]\n",
    "\n",
    "fruits.append(\"pear\")\n",
    "print(fruits)\n",
    "\n",
    "fruits.insert(1,\"mango\")\n",
    "print(fruits)\n",
    "\n",
    "fruits.remove(\"orange\")\n",
    "print(fruits)"
   ]
  },
  {
   "cell_type": "markdown",
   "metadata": {},
   "source": [
    "# Question 2: Slicing and Indexing\n",
    "\n",
    "a) Create a list named `numbers` containing the integers from 0 to 9.\n",
    "\n",
    "b) Print the element at index 3.\n",
    "\n",
    "c) Print a sublist containing the elements from index 2 to 6 (inclusive).\n",
    "\n",
    "d) Print the last three elements using negative indexing."
   ]
  },
  {
   "cell_type": "code",
   "execution_count": 30,
   "metadata": {},
   "outputs": [
    {
     "name": "stdout",
     "output_type": "stream",
     "text": [
      "3\n",
      "sublist = [2, 3, 4, 5, 6]\n",
      "[7, 8, 9]\n"
     ]
    }
   ],
   "source": [
    "numbers = [0, 1, 2, 3, 4, 5, 6, 7, 8, 9]\n",
    "\n",
    "print(numbers[3])\n",
    "\n",
    "print(\"sublist =\", numbers[2:7])\n",
    "\n",
    "print(numbers[-3:])"
   ]
  },
  {
   "cell_type": "markdown",
   "metadata": {},
   "source": [
    "# Question 3: List Comprehension\n",
    "\n",
    "a) Create a list named `squares` using a list comprehension that contains the squares of numbers from 1\n",
    "to 10.\n",
    "\n",
    "b) Create a new list named `even_squares` using a list comprehension that contains the squares of even\n",
    "numbers from the `squares` list."
   ]
  },
  {
   "cell_type": "code",
   "execution_count": 61,
   "metadata": {},
   "outputs": [
    {
     "name": "stdout",
     "output_type": "stream",
     "text": [
      "square = [1, 4, 9, 16, 25, 36, 49, 64, 81, 100]\n",
      "even squares = [16, 256, 1296, 4096, 10000]\n"
     ]
    }
   ],
   "source": [
    "squares = [x**2 for x in range(1,11)]\n",
    "print(\"square =\", squares)\n",
    "\n",
    "even_squares = [x**2 for x in squares if x % 2 == 0 ]\n",
    "print(\"even squares =\", even_squares)"
   ]
  },
  {
   "cell_type": "markdown",
   "metadata": {},
   "source": [
    "# Question 4: List Manipulation\n",
    "\n",
    "a) Create a list named `colors` containing the following items: &quot;red&quot;, &quot;green&quot;, &quot;blue&quot;, &quot;yellow&quot;, &quot;purple&quot;.\n",
    "\n",
    "b) Swap the first and last elements of the list.\n",
    "\n",
    "c) Reverse the order of the list.\n",
    "\n",
    "d) Remove the second and third elements from the list."
   ]
  },
  {
   "cell_type": "code",
   "execution_count": 73,
   "metadata": {},
   "outputs": [
    {
     "name": "stdout",
     "output_type": "stream",
     "text": [
      "['purple', 'green', 'blue', 'yellow', 'red']\n",
      "['red', 'yellow', 'blue', 'green', 'purple']\n"
     ]
    }
   ],
   "source": [
    "colors = [\"red\", \"green\", \"blue\", \"yellow\", \"purple\"]\n",
    "\n",
    "colors[0], colors[-1] = colors[-1], colors[0]\n",
    "print(colors)\n",
    "\n",
    "colors.reverse()\n",
    "print(colors)"
   ]
  },
  {
   "cell_type": "markdown",
   "metadata": {},
   "source": [
    "# Question 5: Advanced Slicing\n",
    "\n",
    "a) Create a list named `letters` containing the letters from &#39;a&#39; to &#39;j&#39;.\n",
    "\n",
    "b) Using slicing, create a new list `first_half` containing the first half of the `letters` list.\n",
    "\n",
    "c) Using slicing, create a new list `last_three` containing the last three elements of the `letters` list."
   ]
  },
  {
   "cell_type": "code",
   "execution_count": 97,
   "metadata": {},
   "outputs": [
    {
     "name": "stdout",
     "output_type": "stream",
     "text": [
      "first_half = ['a', 'b', 'c', 'd', 'e']\n",
      "last_three = ['h', 'i', 'j']\n"
     ]
    }
   ],
   "source": [
    "letters = ['a', 'b', 'c', 'd', 'e', 'f', 'g', 'h', 'i', 'j']\n",
    "\n",
    "print(\"first_half =\", letters[0:5])\n",
    "print(\"last_three =\", letters[-3:])\n"
   ]
  },
  {
   "cell_type": "markdown",
   "metadata": {},
   "source": [
    "# Question 6: Nested Lists\n",
    "\n",
    "a) Create a nested list named `matrix` with the following rows:\n",
    "- [1, 2, 3]\n",
    "- [4, 5, 6]\n",
    "- [7, 8, 9]\n",
    "\n",
    "b) Print the element in the second row and third column.\n",
    "\n",
    "c) Use nested indexing to change the value at the second row and first column to 0."
   ]
  },
  {
   "cell_type": "code",
   "execution_count": 106,
   "metadata": {},
   "outputs": [
    {
     "name": "stdout",
     "output_type": "stream",
     "text": [
      "6\n",
      "[1, 2, 3]\n",
      "[0, 5, 6]\n",
      "[7, 8, 9]\n"
     ]
    }
   ],
   "source": [
    "matrix = [\n",
    "    [1, 2, 3],\n",
    "    [4, 5, 6],\n",
    "    [7, 8, 9]\n",
    "]\n",
    "\n",
    "element = matrix[1][2]\n",
    "print(element)\n",
    "\n",
    "matrix[1][0] = 0\n",
    "\n",
    "for i in matrix:\n",
    "    print(i)"
   ]
  }
 ],
 "metadata": {
  "kernelspec": {
   "display_name": "Python 3 (ipykernel)",
   "language": "python",
   "name": "python3"
  },
  "language_info": {
   "codemirror_mode": {
    "name": "ipython",
    "version": 3
   },
   "file_extension": ".py",
   "mimetype": "text/x-python",
   "name": "python",
   "nbconvert_exporter": "python",
   "pygments_lexer": "ipython3",
   "version": "3.11.3"
  }
 },
 "nbformat": 4,
 "nbformat_minor": 2
}
