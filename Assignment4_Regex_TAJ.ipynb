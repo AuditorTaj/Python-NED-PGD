{
 "cells": [
  {
   "cell_type": "markdown",
   "id": "dbeb14e1",
   "metadata": {
    "id": "dbeb14e1"
   },
   "source": [
    "---\n",
    "\n",
    "## Advanced Regular Expression Assignments\n",
    "\n",
    "### Assignment 1: Extracting Phone Numbers\n",
    "\n",
    "**Raw Text:**\n",
    "Extract all valid Pakistani phone numbers from a given text.\n",
    "\n",
    "**Example:**\n",
    "```\n",
    "Text: Please contact me at 0301-1234567 or 042-35678901 for further details.\n",
    "```\n",
    "\n"
   ]
  },
  {
   "cell_type": "code",
   "execution_count": 161,
   "id": "b830b03e",
   "metadata": {
    "id": "b830b03e"
   },
   "outputs": [
    {
     "data": {
      "text/html": [
       "<div>\n",
       "<style scoped>\n",
       "    .dataframe tbody tr th:only-of-type {\n",
       "        vertical-align: middle;\n",
       "    }\n",
       "\n",
       "    .dataframe tbody tr th {\n",
       "        vertical-align: top;\n",
       "    }\n",
       "\n",
       "    .dataframe thead th {\n",
       "        text-align: right;\n",
       "    }\n",
       "</style>\n",
       "<table border=\"1\" class=\"dataframe\">\n",
       "  <thead>\n",
       "    <tr style=\"text-align: right;\">\n",
       "      <th></th>\n",
       "      <th>Mobile Numbers</th>\n",
       "    </tr>\n",
       "  </thead>\n",
       "  <tbody>\n",
       "    <tr>\n",
       "      <th>0</th>\n",
       "      <td>0301-1234567</td>\n",
       "    </tr>\n",
       "    <tr>\n",
       "      <th>1</th>\n",
       "      <td>042-35678901</td>\n",
       "    </tr>\n",
       "    <tr>\n",
       "      <th>2</th>\n",
       "      <td>0300-1246810</td>\n",
       "    </tr>\n",
       "    <tr>\n",
       "      <th>3</th>\n",
       "      <td>021-35678901</td>\n",
       "    </tr>\n",
       "    <tr>\n",
       "      <th>4</th>\n",
       "      <td>0333-1234567</td>\n",
       "    </tr>\n",
       "    <tr>\n",
       "      <th>5</th>\n",
       "      <td>022-35678901</td>\n",
       "    </tr>\n",
       "  </tbody>\n",
       "</table>\n",
       "</div>"
      ],
      "text/plain": [
       "  Mobile Numbers\n",
       "0   0301-1234567\n",
       "1   042-35678901\n",
       "2   0300-1246810\n",
       "3   021-35678901\n",
       "4   0333-1234567\n",
       "5   022-35678901"
      ]
     },
     "execution_count": 161,
     "metadata": {},
     "output_type": "execute_result"
    }
   ],
   "source": [
    "import re\n",
    "\n",
    "text = \"\"\"\n",
    "Please contact me at 0301-1234567 or 042-35678901 for further details.\n",
    "Please contact me at 0300-1246810 or 021-35678901 for further details.\n",
    "Please contact me at 0333-1234567 or 022-35678901 for further details.\n",
    "\"\"\"\n",
    "\n",
    "pattern = \"(\\d{4}-\\d{7}|\\d{3}-\\d{8})\"\n",
    "                                                    \n",
    "Pak_numbers = re.findall(pattern, text)\n",
    "\n",
    "Pak_numbers\n",
    "\n",
    "import pandas as pd\n",
    "\n",
    "df = pd.DataFrame(Pak_numbers, columns=[\"Mobile Numbers\"])\n",
    "df"
   ]
  },
  {
   "cell_type": "markdown",
   "id": "dd34fb2f",
   "metadata": {
    "id": "dd34fb2f"
   },
   "source": [
    "### Assignment 2: Validating Email Addresses\n",
    "\n",
    "**Raw Text:**\n",
    "Validate email addresses according to Pakistani domain extensions (.pk).\n",
    "\n",
    "**Example:**\n",
    "```\n",
    "Text: Contact us at info@example.com or support@domain.pk for assistance.\n",
    "```\n",
    "\n"
   ]
  },
  {
   "cell_type": "code",
   "execution_count": 162,
   "id": "64cf6883",
   "metadata": {
    "id": "64cf6883"
   },
   "outputs": [
    {
     "data": {
      "text/html": [
       "<div>\n",
       "<style scoped>\n",
       "    .dataframe tbody tr th:only-of-type {\n",
       "        vertical-align: middle;\n",
       "    }\n",
       "\n",
       "    .dataframe tbody tr th {\n",
       "        vertical-align: top;\n",
       "    }\n",
       "\n",
       "    .dataframe thead th {\n",
       "        text-align: right;\n",
       "    }\n",
       "</style>\n",
       "<table border=\"1\" class=\"dataframe\">\n",
       "  <thead>\n",
       "    <tr style=\"text-align: right;\">\n",
       "      <th></th>\n",
       "      <th>Email_Add</th>\n",
       "    </tr>\n",
       "  </thead>\n",
       "  <tbody>\n",
       "    <tr>\n",
       "      <th>0</th>\n",
       "      <td>support@domain.pk</td>\n",
       "    </tr>\n",
       "    <tr>\n",
       "      <th>1</th>\n",
       "      <td>help@domain.pk</td>\n",
       "    </tr>\n",
       "    <tr>\n",
       "      <th>2</th>\n",
       "      <td>query@domain.pk</td>\n",
       "    </tr>\n",
       "  </tbody>\n",
       "</table>\n",
       "</div>"
      ],
      "text/plain": [
       "           Email_Add\n",
       "0  support@domain.pk\n",
       "1     help@domain.pk\n",
       "2    query@domain.pk"
      ]
     },
     "execution_count": 162,
     "metadata": {},
     "output_type": "execute_result"
    }
   ],
   "source": [
    "import re\n",
    "\n",
    "contact = \"\"\"\n",
    "Contact us at info@example.com or support@domain.pk for assistance.\n",
    "For help email at info@example.com or help@domain.pk.\n",
    "For query email at info@example.com or query@domain.pk.\n",
    "\"\"\"\n",
    "    \n",
    "pattern = \"[A-z.+]+@+[A-z.+]+\\.pk\" \n",
    "\n",
    "emails = re.findall(pattern, contact)\n",
    "\n",
    "emails\n",
    "\n",
    "import pandas as pd\n",
    "\n",
    "df = pd.DataFrame(emails, columns=[\"Email_Add\"])\n",
    "df"
   ]
  },
  {
   "cell_type": "markdown",
   "id": "0bd2f6f3",
   "metadata": {
    "id": "0bd2f6f3"
   },
   "source": [
    "### Assignment 3: Extracting CNIC Numbers\n",
    "\n",
    "**Raw Text:**\n",
    "Extract all Pakistani CNIC (Computerized National Identity Card) numbers from a given text.\n",
    "\n",
    "**Example:**\n",
    "```\n",
    "Text: My CNIC is 12345-6789012-3 and another one is 34567-8901234-5.\n",
    "```\n"
   ]
  },
  {
   "cell_type": "code",
   "execution_count": 164,
   "id": "b825834e",
   "metadata": {
    "id": "b825834e"
   },
   "outputs": [
    {
     "data": {
      "text/html": [
       "<div>\n",
       "<style scoped>\n",
       "    .dataframe tbody tr th:only-of-type {\n",
       "        vertical-align: middle;\n",
       "    }\n",
       "\n",
       "    .dataframe tbody tr th {\n",
       "        vertical-align: top;\n",
       "    }\n",
       "\n",
       "    .dataframe thead th {\n",
       "        text-align: right;\n",
       "    }\n",
       "</style>\n",
       "<table border=\"1\" class=\"dataframe\">\n",
       "  <thead>\n",
       "    <tr style=\"text-align: right;\">\n",
       "      <th></th>\n",
       "      <th>CNIC No.</th>\n",
       "    </tr>\n",
       "  </thead>\n",
       "  <tbody>\n",
       "    <tr>\n",
       "      <th>0</th>\n",
       "      <td>12345-6789012-3</td>\n",
       "    </tr>\n",
       "    <tr>\n",
       "      <th>1</th>\n",
       "      <td>34567-8901234-5</td>\n",
       "    </tr>\n",
       "    <tr>\n",
       "      <th>2</th>\n",
       "      <td>42201-5086613-3</td>\n",
       "    </tr>\n",
       "    <tr>\n",
       "      <th>3</th>\n",
       "      <td>42101-1667788-5</td>\n",
       "    </tr>\n",
       "  </tbody>\n",
       "</table>\n",
       "</div>"
      ],
      "text/plain": [
       "          CNIC No.\n",
       "0  12345-6789012-3\n",
       "1  34567-8901234-5\n",
       "2  42201-5086613-3\n",
       "3  42101-1667788-5"
      ]
     },
     "execution_count": 164,
     "metadata": {},
     "output_type": "execute_result"
    }
   ],
   "source": [
    "import re\n",
    "\n",
    "Info = \"\"\"\n",
    "My CNIC is 12345-6789012-3 and another one is 34567-8901234-5.\n",
    "Ahmed CNIC no. is 42201-5086613-3 and Nasir CNIC is 42101-1667788-5\n",
    "\"\"\"\n",
    "\n",
    "pattern = \"\\d{5}-\\d{7}-\\d\"\n",
    "\n",
    "CNICs = re.findall(pattern, Info)\n",
    "\n",
    "CNICs\n",
    "\n",
    "import pandas as pd\n",
    "\n",
    "df = pd.DataFrame(CNICs, columns=[\"CNIC No.\"])\n",
    "df"
   ]
  },
  {
   "cell_type": "markdown",
   "id": "f21a0a2f",
   "metadata": {
    "id": "f21a0a2f"
   },
   "source": [
    "\n",
    "### Assignment 4: Identifying Urdu Words\n",
    "\n",
    "**Raw Text:**\n",
    "Identify and extract Urdu words from a mixed English-Urdu text.\n",
    "\n",
    "**Example:**\n",
    "```\n",
    "Text: یہ sentence میں کچھ English words بھی ہیں۔\n",
    "```\n",
    "\n"
   ]
  },
  {
   "cell_type": "code",
   "execution_count": 44,
   "id": "b4263cfb",
   "metadata": {
    "id": "b4263cfb"
   },
   "outputs": [
    {
     "data": {
      "text/html": [
       "<div>\n",
       "<style scoped>\n",
       "    .dataframe tbody tr th:only-of-type {\n",
       "        vertical-align: middle;\n",
       "    }\n",
       "\n",
       "    .dataframe tbody tr th {\n",
       "        vertical-align: top;\n",
       "    }\n",
       "\n",
       "    .dataframe thead th {\n",
       "        text-align: right;\n",
       "    }\n",
       "</style>\n",
       "<table border=\"1\" class=\"dataframe\">\n",
       "  <thead>\n",
       "    <tr style=\"text-align: right;\">\n",
       "      <th></th>\n",
       "      <th>Urdu Alfaaz</th>\n",
       "    </tr>\n",
       "  </thead>\n",
       "  <tbody>\n",
       "    <tr>\n",
       "      <th>0</th>\n",
       "      <td>یہ</td>\n",
       "    </tr>\n",
       "    <tr>\n",
       "      <th>1</th>\n",
       "      <td>میں</td>\n",
       "    </tr>\n",
       "    <tr>\n",
       "      <th>2</th>\n",
       "      <td>کچھ</td>\n",
       "    </tr>\n",
       "    <tr>\n",
       "      <th>3</th>\n",
       "      <td>بھی</td>\n",
       "    </tr>\n",
       "    <tr>\n",
       "      <th>4</th>\n",
       "      <td>ہیں۔</td>\n",
       "    </tr>\n",
       "  </tbody>\n",
       "</table>\n",
       "</div>"
      ],
      "text/plain": [
       "  Urdu Alfaaz\n",
       "0          یہ\n",
       "1         میں\n",
       "2         کچھ\n",
       "3         بھی\n",
       "4        ہیں۔"
      ]
     },
     "execution_count": 44,
     "metadata": {},
     "output_type": "execute_result"
    }
   ],
   "source": [
    "import re\n",
    "\n",
    "raw_text =\"یہ sentence میں کچھ English words بھی ہیں۔\"\n",
    "\n",
    "pattern = r'[\\u0600-\\u06FF]+'\n",
    "\n",
    "urdu_words = re.findall(pattern, raw_text)\n",
    "\n",
    "urdu_words\n",
    "\n",
    "import pandas as pd\n",
    "\n",
    "df = pd.DataFrame(urdu_words, columns=[\"Urdu Alfaaz\"])\n",
    "df"
   ]
  },
  {
   "cell_type": "markdown",
   "id": "421405e8",
   "metadata": {
    "id": "421405e8"
   },
   "source": [
    "### Assignment 5: Finding Dates\n",
    "\n",
    "**Raw Text:**\n",
    "Find and extract dates in the format DD-MM-YYYY from a given text.\n",
    "\n",
    "**Example:**\n",
    "```\n",
    "Text: The event will take place on 15-08-2023 and 23-09-2023.\n",
    "```\n",
    "\n"
   ]
  },
  {
   "cell_type": "code",
   "execution_count": 165,
   "id": "c2f9d8bf",
   "metadata": {
    "id": "c2f9d8bf"
   },
   "outputs": [
    {
     "data": {
      "text/html": [
       "<div>\n",
       "<style scoped>\n",
       "    .dataframe tbody tr th:only-of-type {\n",
       "        vertical-align: middle;\n",
       "    }\n",
       "\n",
       "    .dataframe tbody tr th {\n",
       "        vertical-align: top;\n",
       "    }\n",
       "\n",
       "    .dataframe thead th {\n",
       "        text-align: right;\n",
       "    }\n",
       "</style>\n",
       "<table border=\"1\" class=\"dataframe\">\n",
       "  <thead>\n",
       "    <tr style=\"text-align: right;\">\n",
       "      <th></th>\n",
       "      <th>Dates</th>\n",
       "    </tr>\n",
       "  </thead>\n",
       "  <tbody>\n",
       "    <tr>\n",
       "      <th>0</th>\n",
       "      <td>15-08-2023</td>\n",
       "    </tr>\n",
       "    <tr>\n",
       "      <th>1</th>\n",
       "      <td>23-09-2023</td>\n",
       "    </tr>\n",
       "    <tr>\n",
       "      <th>2</th>\n",
       "      <td>04/04/1984</td>\n",
       "    </tr>\n",
       "    <tr>\n",
       "      <th>3</th>\n",
       "      <td>01/09/23</td>\n",
       "    </tr>\n",
       "  </tbody>\n",
       "</table>\n",
       "</div>"
      ],
      "text/plain": [
       "        Dates\n",
       "0  15-08-2023\n",
       "1  23-09-2023\n",
       "2  04/04/1984\n",
       "3    01/09/23"
      ]
     },
     "execution_count": 165,
     "metadata": {},
     "output_type": "execute_result"
    }
   ],
   "source": [
    "Statement = \"\"\"\n",
    "The event will take place on 15-08-2023 and 23-09-2023.\n",
    "My date of birth is 04/04/1984.\n",
    "Test is on 01/09/23.\n",
    "\"\"\"\n",
    "\n",
    "pattern = \"\\d{1,2}[/\\\\-?]\\d{1,2}[/\\\\-?]\\d{2,4}\"\n",
    "\n",
    "Dates = re.findall(pattern, Statement)\n",
    "\n",
    "Dates\n",
    "\n",
    "import pandas as pd\n",
    "\n",
    "df = pd.DataFrame(Dates, columns=[\"Dates\"])\n",
    "df"
   ]
  },
  {
   "cell_type": "markdown",
   "id": "6b817815",
   "metadata": {
    "id": "6b817815"
   },
   "source": [
    "### Assignment 6: Extracting URLs\n",
    "\n",
    "**Raw Text:**\n",
    "Extract all URLs from a text that belong to Pakistani domains.\n",
    "\n",
    "**Example:**\n",
    "```\n",
    "Text: Visit http://www.example.pk or https://website.com.pk for more information.\n",
    "```\n",
    "\n"
   ]
  },
  {
   "cell_type": "code",
   "execution_count": 37,
   "id": "c2ba10ac",
   "metadata": {
    "id": "c2ba10ac"
   },
   "outputs": [
    {
     "data": {
      "text/html": [
       "<div>\n",
       "<style scoped>\n",
       "    .dataframe tbody tr th:only-of-type {\n",
       "        vertical-align: middle;\n",
       "    }\n",
       "\n",
       "    .dataframe tbody tr th {\n",
       "        vertical-align: top;\n",
       "    }\n",
       "\n",
       "    .dataframe thead th {\n",
       "        text-align: right;\n",
       "    }\n",
       "</style>\n",
       "<table border=\"1\" class=\"dataframe\">\n",
       "  <thead>\n",
       "    <tr style=\"text-align: right;\">\n",
       "      <th></th>\n",
       "      <th>Website</th>\n",
       "    </tr>\n",
       "  </thead>\n",
       "  <tbody>\n",
       "    <tr>\n",
       "      <th>0</th>\n",
       "      <td>http://www.example.pk</td>\n",
       "    </tr>\n",
       "    <tr>\n",
       "      <th>1</th>\n",
       "      <td>http://www.pak.pk</td>\n",
       "    </tr>\n",
       "    <tr>\n",
       "      <th>2</th>\n",
       "      <td>http://www.help.pk</td>\n",
       "    </tr>\n",
       "    <tr>\n",
       "      <th>3</th>\n",
       "      <td>http://www.123.pk</td>\n",
       "    </tr>\n",
       "    <tr>\n",
       "      <th>4</th>\n",
       "      <td>https://website.com.pk</td>\n",
       "    </tr>\n",
       "  </tbody>\n",
       "</table>\n",
       "</div>"
      ],
      "text/plain": [
       "                  Website\n",
       "0   http://www.example.pk\n",
       "1       http://www.pak.pk\n",
       "2      http://www.help.pk\n",
       "3       http://www.123.pk\n",
       "4  https://website.com.pk"
      ]
     },
     "execution_count": 37,
     "metadata": {},
     "output_type": "execute_result"
    }
   ],
   "source": [
    "import re\n",
    "\n",
    "example = \"\"\"\n",
    "Visit http://www.example.pk or https://website.com.pk for more information.\n",
    "Contact us at http://www.pak.pk or http://www.help.pk for assistance.\n",
    "For help email at http://www.123.pk.\n",
    "\"\"\"\n",
    "    \n",
    "pattern1 = r'http?://[A-z0-9.+]+\\.pk'\n",
    "\n",
    "URL1 = re.findall(pattern1, example, re.M)\n",
    "\n",
    "pattern2 = r'https://[A-z0-9.+]+\\.com+\\.pk'\n",
    "\n",
    "URL2 = re.findall(pattern2, example, re.M)\n",
    "\n",
    "URLs = URL1 + URL2\n",
    "\n",
    "import pandas as pd\n",
    "\n",
    "df = pd.DataFrame(URLs, columns=[\"Website\"])\n",
    "df"
   ]
  },
  {
   "cell_type": "markdown",
   "id": "7ff1dc07",
   "metadata": {
    "id": "7ff1dc07"
   },
   "source": [
    "### Assignment 7: Analyzing Currency\n",
    "\n",
    "**Raw Text:**\n",
    "Extract and analyze currency amounts in Pakistani Rupees (PKR) from a given text.\n",
    "\n",
    "**Example:**\n",
    "```\n",
    "Text: The product costs PKR 1500, while the deluxe version is priced at Rs. 2500.\n",
    "```\n",
    "\n"
   ]
  },
  {
   "cell_type": "code",
   "execution_count": 40,
   "id": "28769652",
   "metadata": {
    "id": "28769652"
   },
   "outputs": [
    {
     "name": "stdout",
     "output_type": "stream",
     "text": [
      "  Product_cost\n",
      "0     PKR 1500\n",
      "1     PKR 5500\n",
      "2     PKR 1000\n",
      "  Deluxe_version\n",
      "0       Rs. 2500\n",
      "1       Rs. 8000\n",
      "2       Rs. 1500\n"
     ]
    }
   ],
   "source": [
    "import re\n",
    "\n",
    "analysis = \"\"\"\n",
    "The product costs PKR 1500, while the deluxe version is priced at Rs. 2500.\n",
    "The product costs PKR 5500, while the deluxe version is priced at Rs. 8000.\n",
    "The product costs PKR 1000, while the deluxe version is priced at Rs. 1500.\n",
    "\"\"\"\n",
    "\n",
    "pattern1 = r'(PKR \\d{1,1000})'\n",
    "\n",
    "Product_cost = re.findall(pattern1, analysis, re.M)\n",
    "\n",
    "Product_cost\n",
    "\n",
    "pattern2 =  r'(Rs\\. \\d{1,1000})'\n",
    "\n",
    "Deluxe_version = re.findall(pattern2, analysis, re.M)\n",
    "\n",
    "Deluxe_version\n",
    "\n",
    "import pandas as pd\n",
    "\n",
    "df1 = pd.DataFrame(Product_cost, columns= [\"Product_cost\"])\n",
    "print(df1)\n",
    "\n",
    "df2 = pd.DataFrame(Deluxe_version, columns= [\"Deluxe_version\"])\n",
    "print(df2)\n"
   ]
  },
  {
   "cell_type": "markdown",
   "id": "651c8b5d",
   "metadata": {
    "id": "651c8b5d"
   },
   "source": [
    "### Assignment 8: Removing Punctuation\n",
    "\n",
    "**Raw Text:**\n",
    "Remove all punctuation marks from a text while preserving Urdu characters.\n",
    "\n",
    "**Example:**\n",
    "```\n",
    "Text: کیا! آپ, یہاں؟\n",
    "```\n",
    "\n"
   ]
  },
  {
   "cell_type": "code",
   "execution_count": 65,
   "id": "96350bf0",
   "metadata": {
    "id": "96350bf0"
   },
   "outputs": [
    {
     "data": {
      "text/plain": [
       "'کیا آپ یہاں'"
      ]
     },
     "execution_count": 65,
     "metadata": {},
     "output_type": "execute_result"
    }
   ],
   "source": [
    "import re\n",
    "\n",
    "urdu = \"کیا! آپ, یہاں؟\"\n",
    "\n",
    "pattern = r'[:,?!؟]'\n",
    "\n",
    "clear_urdu = re.sub(pattern, '', urdu)\n",
    "\n",
    "clear_urdu"
   ]
  },
  {
   "cell_type": "markdown",
   "id": "8cc27684",
   "metadata": {
    "id": "8cc27684"
   },
   "source": [
    "### Assignment 9: Extracting City Names\n",
    "\n",
    "**Raw Text:**\n",
    "Extract names of Pakistani cities from a given text.\n",
    "\n",
    "**Example:**\n",
    "```\n",
    "Text: Lahore, Karachi, Islamabad, and Peshawar are major cities of Pakistan.\n",
    "```\n"
   ]
  },
  {
   "cell_type": "code",
   "execution_count": 63,
   "id": "a81035ed",
   "metadata": {
    "id": "a81035ed"
   },
   "outputs": [
    {
     "data": {
      "text/plain": [
       "['Lahore, Karachi, Islamabad, and Peshawar']"
      ]
     },
     "execution_count": 63,
     "metadata": {},
     "output_type": "execute_result"
    }
   ],
   "source": [
    "import re\n",
    "\n",
    "Text = \"Lahore, Karachi, Islamabad, and Peshawar are major cities of Pakistan.\"\n",
    "\n",
    "pattern = r'L.+war'\n",
    "\n",
    "Pak_cities = re.findall(pattern, Text)\n",
    "\n",
    "Pak_cities\n"
   ]
  },
  {
   "cell_type": "markdown",
   "id": "219b6c4c",
   "metadata": {
    "id": "219b6c4c"
   },
   "source": [
    "\n",
    "### Assignment 10: Analyzing Vehicle Numbers\n",
    "\n",
    "**Raw Text:**\n",
    "Identify and extract Pakistani vehicle registration numbers (e.g., ABC-123) from a text.\n",
    "\n",
    "**Example:**\n",
    "```\n",
    "Text: I saw a car with the number plate LEA-567 near the market.\n",
    "```\n",
    "\n"
   ]
  },
  {
   "cell_type": "code",
   "execution_count": 61,
   "id": "33e1e5ba",
   "metadata": {
    "id": "33e1e5ba"
   },
   "outputs": [
    {
     "data": {
      "text/html": [
       "<div>\n",
       "<style scoped>\n",
       "    .dataframe tbody tr th:only-of-type {\n",
       "        vertical-align: middle;\n",
       "    }\n",
       "\n",
       "    .dataframe tbody tr th {\n",
       "        vertical-align: top;\n",
       "    }\n",
       "\n",
       "    .dataframe thead th {\n",
       "        text-align: right;\n",
       "    }\n",
       "</style>\n",
       "<table border=\"1\" class=\"dataframe\">\n",
       "  <thead>\n",
       "    <tr style=\"text-align: right;\">\n",
       "      <th></th>\n",
       "      <th>Number Plate</th>\n",
       "    </tr>\n",
       "  </thead>\n",
       "  <tbody>\n",
       "    <tr>\n",
       "      <th>0</th>\n",
       "      <td>LEA-567</td>\n",
       "    </tr>\n",
       "    <tr>\n",
       "      <th>1</th>\n",
       "      <td>AAB-300</td>\n",
       "    </tr>\n",
       "    <tr>\n",
       "      <th>2</th>\n",
       "      <td>ABA-350</td>\n",
       "    </tr>\n",
       "  </tbody>\n",
       "</table>\n",
       "</div>"
      ],
      "text/plain": [
       "  Number Plate\n",
       "0      LEA-567\n",
       "1      AAB-300\n",
       "2      ABA-350"
      ]
     },
     "execution_count": 61,
     "metadata": {},
     "output_type": "execute_result"
    }
   ],
   "source": [
    "import re\n",
    "\n",
    "Text = \"\"\"\n",
    "I saw a car with the number plate LEA-567 near the market.\n",
    "A car with the number plate AAB-300.\n",
    "Number plate ABA-350.\n",
    "\"\"\"\n",
    "\n",
    "pattern = r'[A-Z]{3}-\\d{3}'\n",
    "\n",
    "Num_plate = re.findall(pattern, Text, re.M)\n",
    "\n",
    "Num_plate\n",
    "\n",
    "import pandas as pd\n",
    "\n",
    "df = pd.DataFrame(Num_plate, columns=[\"Number Plate\"])\n",
    "df"
   ]
  }
 ],
 "metadata": {
  "colab": {
   "provenance": [
    {
     "file_id": "19CCPfZADa-so7otA5mQWEz-y3MVIYNna",
     "timestamp": 1693045587075
    }
   ]
  },
  "kernelspec": {
   "display_name": "Python 3 (ipykernel)",
   "language": "python",
   "name": "python3"
  },
  "language_info": {
   "codemirror_mode": {
    "name": "ipython",
    "version": 3
   },
   "file_extension": ".py",
   "mimetype": "text/x-python",
   "name": "python",
   "nbconvert_exporter": "python",
   "pygments_lexer": "ipython3",
   "version": "3.11.3"
  }
 },
 "nbformat": 4,
 "nbformat_minor": 5
}
