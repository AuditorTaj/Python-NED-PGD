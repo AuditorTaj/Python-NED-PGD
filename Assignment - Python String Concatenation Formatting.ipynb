{
 "cells": [
  {
   "cell_type": "markdown",
   "id": "8bf68590",
   "metadata": {},
   "source": [
    "# Assignment 1: String Concatenation and Formatting"
   ]
  },
  {
   "cell_type": "raw",
   "id": "4aeee8f6",
   "metadata": {},
   "source": [
    "**Instructions:**\n",
    "1. Create a variable `name` and assign your name to it.\n",
    "2. Create a variable `age` and assign your age to it.\n",
    "3. Create a variable `country` and assign your country of residence to it.\n",
    "4. Using the `+` operator, concatenate the variables to form a sentence in the following format: \"My name is `<name>`, I am `<age>` years old, and I live in `<country>`.\"\n",
    "5. Print the concatenated sentence."
   ]
  },
  {
   "cell_type": "code",
   "execution_count": 13,
   "id": "a6b1e5d0",
   "metadata": {
    "scrolled": true
   },
   "outputs": [
    {
     "name": "stdout",
     "output_type": "stream",
     "text": [
      " My name is Taj Ahmed , I am 39 years old, and I live in Pakistan.\n"
     ]
    }
   ],
   "source": [
    "name = \"Taj Ahmed\"\n",
    "age = 39\n",
    "country = \"Pakistan\"\n",
    "\n",
    "sentence = \" My name is \" + name + \" , I am \" + str(age) + \" years old, and I live in \" + country + \".\"\n",
    "\n",
    "print(sentence)"
   ]
  },
  {
   "cell_type": "markdown",
   "id": "967184b1",
   "metadata": {},
   "source": [
    "# Assignment 2: String Formatting using '.format()'"
   ]
  },
  {
   "cell_type": "raw",
   "id": "834eeec9",
   "metadata": {},
   "source": [
    "**Instructions:**\n",
    "1. Create a variable `item` and assign a product name to it (e.g., \"laptop\", \"book\", \"phone\").\n",
    "2. Create a variable `price` and assign a price to the item.\n",
    "3. Create a variable `quantity` and assign a quantity value.\n",
    "4. Calculate the total cost using the formula: `total_cost = price * quantity`.\n",
    "5. Using the `.format()` method, create a formatted string: \"I bought `<quantity>` `<item>`(s) at `<price>` each, for a total of $`<total_cost>`.\"\n",
    "6. Print the formatted string."
   ]
  },
  {
   "cell_type": "code",
   "execution_count": 23,
   "id": "3efdbc36",
   "metadata": {},
   "outputs": [
    {
     "name": "stdout",
     "output_type": "stream",
     "text": [
      "I bought 10 Mobile(s) at $30000 each, for a total of $300000.\n"
     ]
    }
   ],
   "source": [
    "item = \"Mobile\"\n",
    "price = 30000\n",
    "quantity = 10\n",
    "\n",
    "total_cost = (price * quantity)\n",
    "\n",
    "sentence = \"I bought {} {}(s) at ${} each, for a total of ${}.\".format(quantity, item, price, total_cost)\n",
    "\n",
    "print(sentence)"
   ]
  },
  {
   "cell_type": "markdown",
   "id": "8dee5afc",
   "metadata": {},
   "source": [
    "# Assignment 3: String Interpolation using 'f'"
   ]
  },
  {
   "cell_type": "raw",
   "id": "4a4abcbc",
   "metadata": {},
   "source": [
    "**Instructions:**\n",
    "1. Create a variable `city` and assign the name of a city.\n",
    "2. Create a variable `temperature` and assign a temperature value in Celsius.\n",
    "3. Using `f''` string interpolation, create a string: \"The temperature in `<city>` is `<temperature>`°C.\"\n",
    "4. Print the interpolated string."
   ]
  },
  {
   "cell_type": "code",
   "execution_count": 26,
   "id": "d986f55b",
   "metadata": {},
   "outputs": [
    {
     "name": "stdout",
     "output_type": "stream",
     "text": [
      "The temperature in Karachi is 30°C.\n"
     ]
    }
   ],
   "source": [
    "city = \"Karachi\"\n",
    "temperature = 30\n",
    "\n",
    "sentence = f\"The temperature in {city} is {temperature}°C.\"\n",
    "\n",
    "print(sentence)\n"
   ]
  },
  {
   "cell_type": "markdown",
   "id": "352d221a",
   "metadata": {},
   "source": [
    "# Assignment 4: String Formatting using '%()'"
   ]
  },
  {
   "cell_type": "raw",
   "id": "f3d36af7",
   "metadata": {},
   "source": [
    "**Instructions:**\n",
    "1. Create a variable `first_name` and assign your first name to it.\n",
    "2. Create a variable `last_name` and assign your last name to it.\n",
    "3. Create a variable `birth_year` and assign your birth year.\n",
    "4. Calculate your age using the formula: `age = current_year - birth_year`, where `current_year` is the current year.\n",
    "5. Using `%()` string formatting, create a string: \"My name is %(first_name)s %(last_name)s. I am %(age)d years old.\"\n",
    "6. Print the formatted string."
   ]
  },
  {
   "cell_type": "code",
   "execution_count": 31,
   "id": "25990541",
   "metadata": {},
   "outputs": [
    {
     "name": "stdout",
     "output_type": "stream",
     "text": [
      "My name is Taj Ahmed. I am 39 years old.\n"
     ]
    }
   ],
   "source": [
    "first_name = \"Taj\"\n",
    "last_name = \"Ahmed\"\n",
    "birth_year = 1984\n",
    "current_year = 2023\n",
    "\n",
    "age = (current_year - birth_year)\n",
    "\n",
    "sentence = \"My name is %s %s. I am %d years old.\" %(first_name,last_name,age)\n",
    "\n",
    "print(sentence)"
   ]
  },
  {
   "cell_type": "markdown",
   "id": "cc58cf20",
   "metadata": {},
   "source": [
    "# Assignment 5: Combining Formatting Methods"
   ]
  },
  {
   "cell_type": "raw",
   "id": "1dcab61d",
   "metadata": {},
   "source": [
    "**Instructions:**\n",
    "1. Create a variable `product` and assign a product name.\n",
    "2. Create a variable `discount` and assign a discount percentage.\n",
    "3. Create a variable `original_price` and assign an original price.\n",
    "4. Calculate the discounted price using the formula: `discounted_price = original_price * (1 - discount / 100)`.\n",
    "5. Using any combination of string formatting methods (`+`, `.format()`, `f''`, `%()`), create a descriptive string with the product name, original price, discount percentage, and discounted price.\n",
    "6. Print the descriptive string."
   ]
  },
  {
   "cell_type": "code",
   "execution_count": 40,
   "id": "d5495671",
   "metadata": {},
   "outputs": [
    {
     "name": "stdout",
     "output_type": "stream",
     "text": [
      "This Bag's original price is Rs.1000. After 20% discount, the price is Rs.800.0.\n"
     ]
    }
   ],
   "source": [
    "product = \"Bag\"\n",
    "discount = 20\n",
    "original_price = 1000\n",
    "\n",
    "discounted_price = original_price * (1 - discount / 100)\n",
    "\n",
    "DS = f\"This {product}'s original price is Rs.{original_price}. After {discount}% discount, the price is Rs.{discounted_price}.\"\n",
    "\n",
    "print(DS)"
   ]
  }
 ],
 "metadata": {
  "kernelspec": {
   "display_name": "Python 3 (ipykernel)",
   "language": "python",
   "name": "python3"
  },
  "language_info": {
   "codemirror_mode": {
    "name": "ipython",
    "version": 3
   },
   "file_extension": ".py",
   "mimetype": "text/x-python",
   "name": "python",
   "nbconvert_exporter": "python",
   "pygments_lexer": "ipython3",
   "version": "3.11.3"
  }
 },
 "nbformat": 4,
 "nbformat_minor": 5
}
